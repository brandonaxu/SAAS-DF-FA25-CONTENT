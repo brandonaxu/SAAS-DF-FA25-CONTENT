{
 "cells": [
  {
   "cell_type": "markdown",
   "metadata": {},
   "source": [
    "# Week 1: Environment Setup & Introduction to Data Science\n",
    "\n",
    "## Learning Objectives\n",
    "By the end of this notebook, you will be able to:\n",
    "- Understand what data science is and its applications\n",
    "- Navigate Jupyter Notebooks effectively\n",
    "- Use basic Python for data science\n",
    "- Work with NumPy arrays and Pandas DataFrames\n",
    "- Create simple visualizations\n",
    "\n",
    "---"
   ]
  },
  {
   "cell_type": "markdown",
   "metadata": {},
   "source": [
    "## 1. What is Data Science?\n",
    "\n",
    "Data Science is an interdisciplinary field that combines:\n",
    "- **Statistics & Mathematics**: For understanding patterns and relationships\n",
    "- **Computer Science**: For processing and analyzing large datasets\n",
    "- **Domain Expertise**: For asking the right questions and interpreting results\n",
    "\n",
    "### Common Applications:\n",
    "- **Business**: Customer segmentation, fraud detection, recommendation systems\n",
    "- **Healthcare**: Drug discovery, medical diagnosis, epidemic modeling\n",
    "- **Technology**: Search engines, social media algorithms, autonomous vehicles\n",
    "- **Science**: Climate modeling, genomics, astronomy\n",
    "\n",
    "### The Data Science Process:\n",
    "1. **Ask Questions**: Define the problem\n",
    "2. **Get Data**: Collect and gather relevant data\n",
    "3. **Explore Data**: Understand what you're working with\n",
    "4. **Model Data**: Apply statistical/ML techniques\n",
    "5. **Communicate Results**: Share insights and recommendations"
   ]
  },
  {
   "cell_type": "markdown",
   "metadata": {},
   "source": [
    "## 2. Python Environment Check\n",
    "\n",
    "Let's make sure your environment is set up correctly!"
   ]
  },
  {
   "cell_type": "code",
   "execution_count": null,
   "metadata": {},
   "outputs": [],
   "source": [
    "# Check Python version\n",
    "import sys\n",
    "print(f\"Python version: {sys.version}\")\n",
    "\n",
    "# Import essential libraries\n",
    "try:\n",
    "    import numpy as np\n",
    "    import pandas as pd\n",
    "    import matplotlib.pyplot as plt\n",
    "    import seaborn as sns\n",
    "    print(\"✅ All essential libraries imported successfully!\")\n",
    "except ImportError as e:\n",
    "    print(f\"❌ Error importing libraries: {e}\")\n",
    "    print(\"Please install missing libraries using: pip install numpy pandas matplotlib seaborn\")"
   ]
  },
  {
   "cell_type": "markdown",
   "metadata": {},
   "source": [
    "## 3. Jupyter Notebook Basics\n",
    "\n",
    "### Cell Types:\n",
    "- **Code cells**: Execute Python code (like this one below)\n",
    "- **Markdown cells**: Display formatted text (like this explanation)\n",
    "\n",
    "### Keyboard Shortcuts:\n",
    "- `Shift + Enter`: Run cell and move to next\n",
    "- `Ctrl + Enter`: Run cell and stay in current cell\n",
    "- `A`: Insert cell above\n",
    "- `B`: Insert cell below\n",
    "- `DD`: Delete cell\n",
    "- `M`: Convert to Markdown\n",
    "- `Y`: Convert to Code"
   ]
  },
  {
   "cell_type": "code",
   "execution_count": null,
   "metadata": {},
   "outputs": [],
   "source": [
    "# Try running this cell!\n",
    "print(\"Hello, Data Science World!\")\n",
    "print(\"This is my first data science notebook.\")"
   ]
  },
  {
   "cell_type": "markdown",
   "metadata": {},
   "source": [
    "## 4. Python Fundamentals Review\n",
    "\n",
    "Let's quickly review essential Python concepts for data science."
   ]
  },
  {
   "cell_type": "code",
   "execution_count": null,
   "metadata": {},
   "outputs": [],
   "source": [
    "# Variables and basic data types\n",
    "name = \"Alice\"  # string\n",
    "age = 25        # integer\n",
    "height = 5.6    # float\n",
    "is_student = True  # boolean\n",
    "\n",
    "print(f\"Name: {name}, Age: {age}, Height: {height}, Student: {is_student}\")"
   ]
  },
  {
   "cell_type": "code",
   "execution_count": null,
   "metadata": {},
   "outputs": [],
   "source": [
    "# Lists - ordered, mutable collections\n",
    "numbers = [1, 2, 3, 4, 5]\n",
    "fruits = ['apple', 'banana', 'orange']\n",
    "mixed = [1, 'hello', 3.14, True]\n",
    "\n",
    "print(f\"Numbers: {numbers}\")\n",
    "print(f\"First fruit: {fruits[0]}\")\n",
    "print(f\"Last number: {numbers[-1]}\")"
   ]
  },
  {
   "cell_type": "code",
   "execution_count": null,
   "metadata": {},
   "outputs": [],
   "source": [
    "# Dictionaries - key-value pairs\n",
    "student = {\n",
    "    'name': 'Bob',\n",
    "    'age': 22,\n",
    "    'grades': [85, 90, 78, 92]\n",
    "}\n",
    "\n",
    "print(f\"Student name: {student['name']}\")\n",
    "print(f\"Average grade: {sum(student['grades']) / len(student['grades'])}\")"
   ]
  },
  {
   "cell_type": "code",
   "execution_count": null,
   "metadata": {},
   "outputs": [],
   "source": [
    "# Loops and conditionals\n",
    "scores = [85, 92, 78, 96, 88]\n",
    "\n",
    "for score in scores:\n",
    "    if score >= 90:\n",
    "        grade = 'A'\n",
    "    elif score >= 80:\n",
    "        grade = 'B'\n",
    "    elif score >= 70:\n",
    "        grade = 'C'\n",
    "    else:\n",
    "        grade = 'F'\n",
    "    \n",
    "    print(f\"Score: {score} -> Grade: {grade}\")"
   ]
  },
  {
   "cell_type": "markdown",
   "metadata": {},
   "source": [
    "## 5. Introduction to NumPy\n",
    "\n",
    "NumPy (Numerical Python) is the foundation of data science in Python. It provides:\n",
    "- Efficient arrays (much faster than Python lists)\n",
    "- Mathematical functions\n",
    "- Linear algebra operations"
   ]
  },
  {
   "cell_type": "code",
   "execution_count": null,
   "metadata": {},
   "outputs": [],
   "source": [
    "import numpy as np\n",
    "\n",
    "# Creating arrays\n",
    "arr1 = np.array([1, 2, 3, 4, 5])\n",
    "arr2 = np.array([[1, 2, 3], [4, 5, 6]])\n",
    "\n",
    "print(f\"1D Array: {arr1}\")\n",
    "print(f\"2D Array:\\n{arr2}\")\n",
    "print(f\"Shape of arr2: {arr2.shape}\")"
   ]
  },
  {
   "cell_type": "code",
   "execution_count": null,
   "metadata": {},
   "outputs": [],
   "source": [
    "# Array operations\n",
    "numbers = np.array([1, 2, 3, 4, 5])\n",
    "\n",
    "print(f\"Original: {numbers}\")\n",
    "print(f\"Add 10: {numbers + 10}\")\n",
    "print(f\"Multiply by 2: {numbers * 2}\")\n",
    "print(f\"Square: {numbers ** 2}\")\n",
    "print(f\"Sum: {np.sum(numbers)}\")\n",
    "print(f\"Mean: {np.mean(numbers)}\")\n",
    "print(f\"Standard deviation: {np.std(numbers)}\")"
   ]
  },
  {
   "cell_type": "code",
   "execution_count": null,
   "metadata": {},
   "outputs": [],
   "source": [
    "# Useful array creation functions\n",
    "zeros = np.zeros(5)\n",
    "ones = np.ones((3, 3))\n",
    "range_arr = np.arange(0, 10, 2)\n",
    "linspace_arr = np.linspace(0, 1, 5)\n",
    "random_arr = np.random.random(5)\n",
    "\n",
    "print(f\"Zeros: {zeros}\")\n",
    "print(f\"Ones:\\n{ones}\")\n",
    "print(f\"Range: {range_arr}\")\n",
    "print(f\"Linspace: {linspace_arr}\")\n",
    "print(f\"Random: {random_arr}\")"
   ]
  },
  {
   "cell_type": "markdown",
   "metadata": {},
   "source": [
    "## 6. Introduction to Pandas\n",
    "\n",
    "Pandas is built on top of NumPy and provides:\n",
    "- DataFrames (like Excel spreadsheets)\n",
    "- Data cleaning and manipulation tools\n",
    "- File I/O (CSV, Excel, JSON, etc.)"
   ]
  },
  {
   "cell_type": "code",
   "execution_count": null,
   "metadata": {},
   "outputs": [],
   "source": [
    "import pandas as pd\n",
    "\n",
    "# Creating a DataFrame\n",
    "data = {\n",
    "    'Name': ['Alice', 'Bob', 'Charlie', 'Diana', 'Eve'],\n",
    "    'Age': [25, 30, 35, 28, 32],\n",
    "    'City': ['New York', 'London', 'Tokyo', 'Paris', 'Sydney'],\n",
    "    'Salary': [70000, 80000, 90000, 75000, 85000]\n",
    "}\n",
    "\n",
    "df = pd.DataFrame(data)\n",
    "print(\"Our first DataFrame:\")\n",
    "print(df)"
   ]
  },
  {
   "cell_type": "code",
   "execution_count": null,
   "metadata": {},
   "outputs": [],
   "source": [
    "# Basic DataFrame operations\n",
    "print(f\"Shape: {df.shape}\")\n",
    "print(f\"Columns: {df.columns.tolist()}\")\n",
    "print(f\"\\nFirst 3 rows:\")\n",
    "print(df.head(3))\n",
    "print(f\"\\nBasic statistics:\")\n",
    "print(df.describe())"
   ]
  },
  {
   "cell_type": "code",
   "execution_count": null,
   "metadata": {},
   "outputs": [],
   "source": [
    "# Selecting data\n",
    "print(\"Names column:\")\n",
    "print(df['Name'])\n",
    "\n",
    "print(\"\\nAge and Salary columns:\")\n",
    "print(df[['Age', 'Salary']])\n",
    "\n",
    "print(\"\\nPeople older than 30:\")\n",
    "print(df[df['Age'] > 30])"
   ]
  },
  {
   "cell_type": "code",
   "execution_count": null,
   "metadata": {},
   "outputs": [],
   "source": [
    "# Adding new columns\n",
    "df['Salary_K'] = df['Salary'] / 1000  # Salary in thousands\n",
    "df['Age_Group'] = df['Age'].apply(lambda x: 'Young' if x < 30 else 'Mature')\n",
    "\n",
    "print(\"DataFrame with new columns:\")\n",
    "print(df)"
   ]
  },
  {
   "cell_type": "markdown",
   "metadata": {},
   "source": [
    "## 7. Basic Data Visualization\n",
    "\n",
    "Visualization is crucial for understanding data. Let's create some simple plots!"
   ]
  },
  {
   "cell_type": "code",
   "execution_count": null,
   "metadata": {},
   "outputs": [],
   "source": [
    "import matplotlib.pyplot as plt\n",
    "\n",
    "# Set up the plotting style\n",
    "plt.style.use('default')\n",
    "plt.rcParams['figure.figsize'] = (10, 6)\n",
    "\n",
    "# Simple line plot\n",
    "x = np.linspace(0, 10, 100)\n",
    "y = np.sin(x)\n",
    "\n",
    "plt.figure(figsize=(10, 4))\n",
    "plt.plot(x, y, label='sin(x)', color='blue', linewidth=2)\n",
    "plt.title('Sine Wave')\n",
    "plt.xlabel('x')\n",
    "plt.ylabel('sin(x)')\n",
    "plt.grid(True, alpha=0.3)\n",
    "plt.legend()\n",
    "plt.show()"
   ]
  },
  {
   "cell_type": "code",
   "execution_count": null,
   "metadata": {},
   "outputs": [],
   "source": [
    "# Bar plot using our DataFrame\n",
    "plt.figure(figsize=(10, 6))\n",
    "plt.bar(df['Name'], df['Age'], color='skyblue', edgecolor='navy', alpha=0.7)\n",
    "plt.title('Age by Person')\n",
    "plt.xlabel('Name')\n",
    "plt.ylabel('Age')\n",
    "plt.xticks(rotation=45)\n",
    "plt.tight_layout()\n",
    "plt.show()"
   ]
  },
  {
   "cell_type": "code",
   "execution_count": null,
   "metadata": {},
   "outputs": [],
   "source": [
    "# Scatter plot\n",
    "plt.figure(figsize=(8, 6))\n",
    "plt.scatter(df['Age'], df['Salary'], color='red', alpha=0.7, s=100)\n",
    "plt.title('Age vs Salary')\n",
    "plt.xlabel('Age')\n",
    "plt.ylabel('Salary ($)')\n",
    "plt.grid(True, alpha=0.3)\n",
    "\n",
    "# Add labels for each point\n",
    "for i, name in enumerate(df['Name']):\n",
    "    plt.annotate(name, (df['Age'].iloc[i], df['Salary'].iloc[i]), \n",
    "                xytext=(5, 5), textcoords='offset points')\n",
    "\n",
    "plt.tight_layout()\n",
    "plt.show()"
   ]
  },
  {
   "cell_type": "markdown",
   "metadata": {},
   "source": [
    "## 8. Your First Data Analysis\n",
    "\n",
    "Let's put it all together with a simple analysis!"
   ]
  },
  {
   "cell_type": "code",
   "execution_count": null,
   "metadata": {},
   "outputs": [],
   "source": [
    "# Create a larger dataset\n",
    "np.random.seed(42)  # For reproducible results\n",
    "\n",
    "n_students = 100\n",
    "students_data = {\n",
    "    'Student_ID': range(1, n_students + 1),\n",
    "    'Math_Score': np.random.normal(75, 15, n_students),\n",
    "    'Science_Score': np.random.normal(80, 12, n_students),\n",
    "    'Hours_Studied': np.random.normal(5, 2, n_students)\n",
    "}\n",
    "\n",
    "# Ensure realistic ranges\n",
    "students_data['Math_Score'] = np.clip(students_data['Math_Score'], 0, 100)\n",
    "students_data['Science_Score'] = np.clip(students_data['Science_Score'], 0, 100)\n",
    "students_data['Hours_Studied'] = np.clip(students_data['Hours_Studied'], 0, 12)\n",
    "\n",
    "students_df = pd.DataFrame(students_data)\n",
    "print(\"Student dataset:\")\n",
    "print(students_df.head())\n",
    "print(f\"\\nDataset shape: {students_df.shape}\")"
   ]
  },
  {
   "cell_type": "code",
   "execution_count": null,
   "metadata": {},
   "outputs": [],
   "source": [
    "# Basic statistics\n",
    "print(\"Summary statistics:\")\n",
    "print(students_df.describe())\n",
    "\n",
    "print(f\"\\nAverage Math Score: {students_df['Math_Score'].mean():.2f}\")\n",
    "print(f\"Average Science Score: {students_df['Science_Score'].mean():.2f}\")\n",
    "print(f\"Average Hours Studied: {students_df['Hours_Studied'].mean():.2f}\")"
   ]
  },
  {
   "cell_type": "code",
   "execution_count": null,
   "metadata": {},
   "outputs": [],
   "source": [
    "# Create visualizations\n",
    "fig, axes = plt.subplots(2, 2, figsize=(12, 10))\n",
    "\n",
    "# Histogram of Math scores\n",
    "axes[0, 0].hist(students_df['Math_Score'], bins=20, color='lightblue', edgecolor='black', alpha=0.7)\n",
    "axes[0, 0].set_title('Distribution of Math Scores')\n",
    "axes[0, 0].set_xlabel('Math Score')\n",
    "axes[0, 0].set_ylabel('Frequency')\n",
    "\n",
    "# Histogram of Science scores\n",
    "axes[0, 1].hist(students_df['Science_Score'], bins=20, color='lightgreen', edgecolor='black', alpha=0.7)\n",
    "axes[0, 1].set_title('Distribution of Science Scores')\n",
    "axes[0, 1].set_xlabel('Science Score')\n",
    "axes[0, 1].set_ylabel('Frequency')\n",
    "\n",
    "# Scatter plot: Hours studied vs Math score\n",
    "axes[1, 0].scatter(students_df['Hours_Studied'], students_df['Math_Score'], alpha=0.6, color='red')\n",
    "axes[1, 0].set_title('Hours Studied vs Math Score')\n",
    "axes[1, 0].set_xlabel('Hours Studied')\n",
    "axes[1, 0].set_ylabel('Math Score')\n",
    "\n",
    "# Scatter plot: Math vs Science scores\n",
    "axes[1, 1].scatter(students_df['Math_Score'], students_df['Science_Score'], alpha=0.6, color='purple')\n",
    "axes[1, 1].set_title('Math Score vs Science Score')\n",
    "axes[1, 1].set_xlabel('Math Score')\n",
    "axes[1, 1].set_ylabel('Science Score')\n",
    "\n",
    "plt.tight_layout()\n",
    "plt.show()"
   ]
  },
  {
   "cell_type": "markdown",
   "metadata": {},
   "source": [
    "## 9. Practice Exercises\n",
    "\n",
    "Now it's your turn! Complete these exercises to practice what you've learned."
   ]
  },
  {
   "cell_type": "markdown",
   "metadata": {},
   "source": [
    "### Exercise 1: Array Operations\n",
    "Create a NumPy array with numbers from 1 to 20, then:\n",
    "1. Find all even numbers\n",
    "2. Calculate the square of each number\n",
    "3. Find the mean and standard deviation"
   ]
  },
  {
   "cell_type": "code",
   "execution_count": null,
   "metadata": {},
   "outputs": [],
   "source": [
    "# Your code here\n",
    "# Create array\n",
    "arr = np.arange(1, 21)\n",
    "print(f\"Array: {arr}\")\n",
    "\n",
    "# Find even numbers\n",
    "even_numbers = arr[arr % 2 == 0]\n",
    "print(f\"Even numbers: {even_numbers}\")\n",
    "\n",
    "# Calculate squares\n",
    "squares = arr ** 2\n",
    "print(f\"Squares: {squares}\")\n",
    "\n",
    "# Mean and standard deviation\n",
    "print(f\"Mean: {np.mean(arr):.2f}\")\n",
    "print(f\"Standard deviation: {np.std(arr):.2f}\")"
   ]
  },
  {
   "cell_type": "markdown",
   "metadata": {},
   "source": [
    "### Exercise 2: DataFrame Manipulation\n",
    "Create a DataFrame with information about 5 movies (title, year, rating, genre), then:\n",
    "1. Add a column for decade (e.g., 1990s, 2000s)\n",
    "2. Filter movies with rating > 8.0\n",
    "3. Group by genre and calculate average rating"
   ]
  },
  {
   "cell_type": "code",
   "execution_count": null,
   "metadata": {},
   "outputs": [],
   "source": [
    "# Your code here\n",
    "movies_data = {\n",
    "    'Title': ['The Shawshank Redemption', 'The Godfather', 'Pulp Fiction', 'Inception', 'Parasite'],\n",
    "    'Year': [1994, 1972, 1994, 2010, 2019],\n",
    "    'Rating': [9.3, 9.2, 8.9, 8.8, 8.6],\n",
    "    'Genre': ['Drama', 'Crime', 'Crime', 'Sci-Fi', 'Thriller']\n",
    "}\n",
    "\n",
    "movies_df = pd.DataFrame(movies_data)\n",
    "print(\"Movies DataFrame:\")\n",
    "print(movies_df)\n",
    "\n",
    "# Add decade column\n",
    "movies_df['Decade'] = (movies_df['Year'] // 10) * 10\n",
    "movies_df['Decade'] = movies_df['Decade'].astype(str) + 's'\n",
    "print(\"\\nWith decade column:\")\n",
    "print(movies_df)\n",
    "\n",
    "# Filter high-rated movies\n",
    "high_rated = movies_df[movies_df['Rating'] > 8.0]\n",
    "print(\"\\nHigh-rated movies (>8.0):\")\n",
    "print(high_rated)\n",
    "\n",
    "# Group by genre\n",
    "genre_avg = movies_df.groupby('Genre')['Rating'].mean()\n",
    "print(\"\\nAverage rating by genre:\")\n",
    "print(genre_avg)"
   ]
  },
  {
   "cell_type": "markdown",
   "metadata": {},
   "source": [
    "### Exercise 3: Data Visualization\n",
    "Using the movies DataFrame, create:\n",
    "1. A bar plot of ratings by movie title\n",
    "2. A histogram of movie years\n",
    "3. A scatter plot of year vs rating"
   ]
  },
  {
   "cell_type": "code",
   "execution_count": null,
   "metadata": {},
   "outputs": [],
   "source": [
    "# Your code here\n",
    "fig, axes = plt.subplots(1, 3, figsize=(15, 5))\n",
    "\n",
    "# Bar plot of ratings\n",
    "axes[0].bar(range(len(movies_df)), movies_df['Rating'], color='gold', edgecolor='black')\n",
    "axes[0].set_title('Movie Ratings')\n",
    "axes[0].set_xlabel('Movie')\n",
    "axes[0].set_ylabel('Rating')\n",
    "axes[0].set_xticks(range(len(movies_df)))\n",
    "axes[0].set_xticklabels(movies_df['Title'], rotation=45, ha='right')\n",
    "\n",
    "# Histogram of years\n",
    "axes[1].hist(movies_df['Year'], bins=5, color='lightcoral', edgecolor='black', alpha=0.7)\n",
    "axes[1].set_title('Distribution of Movie Years')\n",
    "axes[1].set_xlabel('Year')\n",
    "axes[1].set_ylabel('Frequency')\n",
    "\n",
    "# Scatter plot\n",
    "axes[2].scatter(movies_df['Year'], movies_df['Rating'], color='navy', s=100, alpha=0.7)\n",
    "axes[2].set_title('Year vs Rating')\n",
    "axes[2].set_xlabel('Year')\n",
    "axes[2].set_ylabel('Rating')\n",
    "\n",
    "plt.tight_layout()\n",
    "plt.show()"
   ]
  },
  {
   "cell_type": "markdown",
   "metadata": {},
   "source": [
    "## 10. Summary and Next Steps\n",
    "\n",
    "Congratulations! You've completed your first data science notebook. Here's what you learned:\n",
    "\n",
    "✅ **Environment Setup**: Verified Python and essential libraries  \n",
    "✅ **Jupyter Notebooks**: Learned to navigate and use notebooks effectively  \n",
    "✅ **Python Fundamentals**: Reviewed key concepts for data science  \n",
    "✅ **NumPy**: Created and manipulated arrays efficiently  \n",
    "✅ **Pandas**: Worked with DataFrames for data analysis  \n",
    "✅ **Matplotlib**: Created basic visualizations  \n",
    "✅ **Data Analysis**: Performed your first complete analysis  \n",
    "\n",
    "### Next Week Preview: Data Manipulation and EDA\n",
    "- Advanced Pandas operations\n",
    "- Data cleaning techniques\n",
    "- Exploratory Data Analysis (EDA)\n",
    "- Advanced visualizations with Seaborn\n",
    "\n",
    "### Homework Assignment\n",
    "1. Complete any unfinished exercises above\n",
    "2. Create a DataFrame with data about yourself and 4 friends (name, age, favorite color, hobby)\n",
    "3. Perform basic analysis and create 2 different visualizations\n",
    "4. Write a short summary of what you discovered\n",
    "\n",
    "### Additional Resources\n",
    "- [Python Data Science Handbook](https://jakevdp.github.io/PythonDataScienceHandbook/)\n",
    "- [Pandas Documentation](https://pandas.pydata.org/docs/)\n",
    "- [NumPy Documentation](https://numpy.org/doc/)\n",
    "- [Matplotlib Tutorials](https://matplotlib.org/stable/tutorials/index.html)\n",
    "\n",
    "Great job getting started with data science! 🎉"
   ]
  }
 ],
 "metadata": {
  "kernelspec": {
   "display_name": "Python 3",
   "language": "python",
   "name": "python3"
  },
  "language_info": {
   "codemirror_mode": {
    "name": "ipython",
    "version": 3
   },
   "file_extension": ".py",
   "mimetype": "text/x-python",
   "name": "python",
   "nbconvert_exporter": "python",
   "pygments_lexer": "ipython3",
   "version": "3.8.5"
  }
 },
 "nbformat": 4,
 "nbformat_minor": 4
}
